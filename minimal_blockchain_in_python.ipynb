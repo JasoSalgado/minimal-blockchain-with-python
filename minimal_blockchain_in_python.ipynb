{
 "cells": [
  {
   "cell_type": "markdown",
   "metadata": {},
   "source": [
    "# Minimal Blockchain in Python"
   ]
  },
  {
   "cell_type": "markdown",
   "metadata": {},
   "source": [
    "## Defining MinimalChain Class"
   ]
  },
  {
   "cell_type": "code",
   "execution_count": 6,
   "metadata": {},
   "outputs": [],
   "source": [
    "# We have to import these libraries\n",
    "import copy\n",
    "import datetime\n",
    "import hashlib"
   ]
  },
  {
   "cell_type": "markdown",
   "metadata": {},
   "source": [
    "## Defining classes"
   ]
  },
  {
   "cell_type": "code",
   "execution_count": 56,
   "metadata": {},
   "outputs": [],
   "source": [
    "class MinimalChain:\n",
    "    \"\"\"\n",
    "    We create our constructor\n",
    "    \"\"\"\n",
    "    def __init__(self):\n",
    "        self.blocks = [self.get_genesis_block()]\n",
    "    \n",
    "    \n",
    "    def __eq__(self, other):\n",
    "        \"\"\"\n",
    "        If it is an instance, returns a dictionary\n",
    "        This is an comparison method\n",
    "        \"\"\"\n",
    "        if isinstance(other, self.__class__):\n",
    "            return self.__dict__ == other.__dict__\n",
    "        else:\n",
    "            return False\n",
    "    \n",
    "    \n",
    "    def get_genesis_block(self):\n",
    "        \"\"\"\n",
    "        We get the genesis block with the following data\n",
    "        \"\"\"\n",
    "        return MinimalBlock(0, \n",
    "                            datetime.datetime.utcnow(), \n",
    "                            \"Genesis\",\n",
    "                            \"arbitrary\")\n",
    "    \n",
    "    \n",
    "    def add_block(self, data):\n",
    "        \"\"\"\n",
    "        We add another block with the parameter data\n",
    "        \"\"\"\n",
    "        self.blocks.append(MinimalBlock(len(self.blocks),\n",
    "                                       datetime.datetime.utcnow(),\n",
    "                                       data, \n",
    "                                       self.blocks[len(self.blocks) - 1].hash))\n",
    "    \n",
    "    \n",
    "    def get_chain_size(self):\n",
    "        \"\"\"\n",
    "        We return the size of the chain\n",
    "        \"\"\"\n",
    "        return len(self.blocks) - 1\n",
    "    \n",
    "    \n",
    "    def verify(self, verbose=True):\n",
    "        \"\"\"\n",
    "        We verify that the blockchain is correct and has not been modified\n",
    "        \"\"\"\n",
    "        flag = True\n",
    "        for i in range(1,len(self.blocks)):\n",
    "            if not self.blocks[i].verify(): # assume Genesis block integrity\n",
    "                flag = False\n",
    "                if verbose:\n",
    "                    print(f'Wrong data type(s) at block {i}.')\n",
    "            if self.blocks[i].index != i:\n",
    "                flag = False\n",
    "                if verbose:\n",
    "                    print(f'Wrong block index at block {i}.')\n",
    "            if self.blocks[i-1].hash != self.blocks[i].previous_hash:\n",
    "                flag = False\n",
    "                if verbose:\n",
    "                    print(f'Wrong previous hash at block {i}.')\n",
    "            if self.blocks[i].hash != self.blocks[i].hashing():\n",
    "                flag = False\n",
    "                if verbose:\n",
    "                    print(f'Wrong hash at block {i}.')\n",
    "            if self.blocks[i-1].timestamp >= self.blocks[i].timestamp:\n",
    "                flag = False\n",
    "                if verbose:\n",
    "                    print(f'Backdating at block {i}.')\n",
    "        return flag\n",
    "    \n",
    "    \n",
    "    def fork(self, head=\"latest\"):\n",
    "        if head in [\"latest\", \"whole\", \"all\"]:\n",
    "            \"\"\"\n",
    "            We create a deep copy\n",
    "            \"\"\"\n",
    "            return copy.deepcopy(self)\n",
    "        else:\n",
    "            c = copy.deepcopy(self)\n",
    "            c.blocks = c.blocks[0:head + 1]\n",
    "            return c\n",
    "    \n",
    "    \n",
    "    def get_root(self, chain_2):\n",
    "        \"\"\"\n",
    "        We go through the chains\n",
    "        \"\"\"\n",
    "        min_chain_size = min(self.get_chain_size(), chain_2.get_chain_size())\n",
    "        for i in range(1, min_chain_size + 1):\n",
    "            if self.blocks[i] != chain_2.blocks[i]:\n",
    "                return self.fork(i - 1)\n",
    "            return self.fork(min_chain_size)\n",
    "       \n",
    "        "
   ]
  },
  {
   "cell_type": "markdown",
   "metadata": {},
   "source": [
    "## Defining the MinimalBlock class"
   ]
  },
  {
   "cell_type": "code",
   "execution_count": 57,
   "metadata": {},
   "outputs": [],
   "source": [
    "class MinimalBlock:\n",
    "    \"\"\"\n",
    "    We create the constructor with parameters: index, timestamp, data, previous_hash\n",
    "    \"\"\"\n",
    "    def __init__(self, index, timestamp, data, previous_hash):\n",
    "        self.index = index\n",
    "        self.timestamp = timestamp\n",
    "        self.data = data\n",
    "        self.previous_hash = previous_hash\n",
    "        self.hash = self.hashing() # hashing comes from the library hashlib\n",
    "    \n",
    "    \n",
    "    def __eq__(self, other):\n",
    "        \"\"\"\n",
    "        If it is an instance, returns a dictionary but, returns False\n",
    "        This is a comparison method\n",
    "        \"\"\"\n",
    "        if isinstance(other, self.__class__):\n",
    "            return self.__dict__ == other.__dict__\n",
    "        else:\n",
    "            return False\n",
    "    \n",
    "    \n",
    "    def hashing(self):\n",
    "        \"\"\"\n",
    "        We use hashing to encrypt the block\n",
    "        \"\"\"\n",
    "        key = hashlib.sha256()\n",
    "        key.update(str(self.index).encode(\"utf-8\"))\n",
    "        key.update(str(self.timestamp).encode(\"utf-8\"))\n",
    "        key.update(str(self.data).encode(\"utf-8\"))\n",
    "        key.update(str(self.previous_hash).encode(\"utf-8\"))\n",
    "        return key.hexdigest()\n",
    "\n",
    "    \n",
    "    def verify(self):\n",
    "        \"\"\"\n",
    "        Verify all information in a block\n",
    "        \"\"\"\n",
    "        instances = [self.index, self.timestamp, self.previous_hash, self.hash]\n",
    "        types = [int, datetime.datetime, str, str]\n",
    "        if sum(map(lambda inst_, type_: isinstance(inst_, type_), instances, types)) == len(instances):\n",
    "            return True\n",
    "        else:\n",
    "            return False\n",
    "        "
   ]
  },
  {
   "cell_type": "markdown",
   "metadata": {},
   "source": [
    "## Testing"
   ]
  },
  {
   "cell_type": "code",
   "execution_count": 58,
   "metadata": {},
   "outputs": [],
   "source": [
    "c = MinimalChain()\n",
    "for i in range(1, 20 + 1):\n",
    "    c.add_block(f\"This is block {i} of my first chain\")"
   ]
  },
  {
   "cell_type": "code",
   "execution_count": 59,
   "metadata": {},
   "outputs": [
    {
     "name": "stdout",
     "output_type": "stream",
     "text": [
      "2021-02-11 17:50:18.679284\n",
      "This is block 7 of my first chain\n",
      "c3af0228fb8815aa449e101ad88285074872508ff084c9813a0514d30821d28e\n"
     ]
    }
   ],
   "source": [
    "print(c.blocks[3].timestamp)\n",
    "print(c.blocks[7].data)\n",
    "print(c.blocks[9].hash)"
   ]
  },
  {
   "cell_type": "code",
   "execution_count": 73,
   "metadata": {},
   "outputs": [
    {
     "name": "stdout",
     "output_type": "stream",
     "text": [
      "2021-02-11 18:00:22.130330\n",
      "This is block 20 of my second chain\n",
      "9f77543ba1d7fa80b50ba239868362a595df7c1504ee6e9e2585884d755e7f44\n"
     ]
    }
   ],
   "source": [
    "c_2 = MinimalChain()\n",
    "for x in range(1, 11 + 1):\n",
    "    c_2.add_block(f\"This is block {i} of my second chain\")\n",
    "\n",
    "print(c_2.blocks[1].timestamp)\n",
    "print(c_2.blocks[2].data)\n",
    "print(c_2.blocks[1].hash)\n"
   ]
  },
  {
   "cell_type": "code",
   "execution_count": 60,
   "metadata": {},
   "outputs": [
    {
     "name": "stdout",
     "output_type": "stream",
     "text": [
      "20\n",
      "True\n"
     ]
    }
   ],
   "source": [
    "print(c.get_chain_size())\n",
    "print(c.verify())"
   ]
  },
  {
   "cell_type": "code",
   "execution_count": 61,
   "metadata": {},
   "outputs": [
    {
     "name": "stdout",
     "output_type": "stream",
     "text": [
      "True\n"
     ]
    }
   ],
   "source": [
    "c_forked = c.fork(\"latest\")\n",
    "print(c == c_forked)"
   ]
  },
  {
   "cell_type": "code",
   "execution_count": 62,
   "metadata": {},
   "outputs": [
    {
     "name": "stdout",
     "output_type": "stream",
     "text": [
      "20 21\n"
     ]
    }
   ],
   "source": [
    "c_forked.add_block(\"New block for forked chain\")\n",
    "print(c.get_chain_size(), c_forked.get_chain_size())"
   ]
  },
  {
   "cell_type": "markdown",
   "metadata": {},
   "source": [
    "## Conflict Testing"
   ]
  },
  {
   "cell_type": "code",
   "execution_count": 63,
   "metadata": {},
   "outputs": [
    {
     "name": "stdout",
     "output_type": "stream",
     "text": [
      "Wrong block index at block 9.\n",
      "Wrong hash at block 9.\n"
     ]
    },
    {
     "data": {
      "text/plain": [
       "False"
      ]
     },
     "execution_count": 63,
     "metadata": {},
     "output_type": "execute_result"
    }
   ],
   "source": [
    "c_forked = c.fork(\"latest\")\n",
    "c_forked.blocks[9].index = -9\n",
    "c_forked.verify()"
   ]
  },
  {
   "cell_type": "code",
   "execution_count": 64,
   "metadata": {},
   "outputs": [
    {
     "name": "stdout",
     "output_type": "stream",
     "text": [
      "Wrong hash at block 16.\n",
      "Backdating at block 16.\n"
     ]
    },
    {
     "data": {
      "text/plain": [
       "False"
      ]
     },
     "execution_count": 64,
     "metadata": {},
     "output_type": "execute_result"
    }
   ],
   "source": [
    "c_forked = c.fork(\"latest\")\n",
    "c_forked.blocks[16].timestamp = datetime.datetime(2000, 1, 1, 0, 0, 0, 0)\n",
    "c_forked.verify()"
   ]
  },
  {
   "cell_type": "code",
   "execution_count": 65,
   "metadata": {},
   "outputs": [
    {
     "name": "stdout",
     "output_type": "stream",
     "text": [
      "Wrong previous hash at block 5.\n",
      "Wrong hash at block 5.\n"
     ]
    },
    {
     "data": {
      "text/plain": [
       "False"
      ]
     },
     "execution_count": 65,
     "metadata": {},
     "output_type": "execute_result"
    }
   ],
   "source": [
    "c_forked = c.fork(\"latest\")\n",
    "c_forked.blocks[5].previous_hash = c_forked.blocks[1].hash\n",
    "c_forked.verify()"
   ]
  },
  {
   "cell_type": "code",
   "execution_count": null,
   "metadata": {},
   "outputs": [],
   "source": []
  }
 ],
 "metadata": {
  "kernelspec": {
   "display_name": "Python 3",
   "language": "python",
   "name": "python3"
  },
  "language_info": {
   "codemirror_mode": {
    "name": "ipython",
    "version": 3
   },
   "file_extension": ".py",
   "mimetype": "text/x-python",
   "name": "python",
   "nbconvert_exporter": "python",
   "pygments_lexer": "ipython3",
   "version": "3.8.5"
  }
 },
 "nbformat": 4,
 "nbformat_minor": 4
}
